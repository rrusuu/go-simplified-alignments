{
 "cells": [
  {
   "cell_type": "markdown",
   "id": "69a73c12",
   "metadata": {},
   "source": [
    "## Overlaps\n",
    "\n",
    "Testing code to merge two strings where they overlap. This will be important for the implementation of (Simple) Greedy Alignment, where overlapping segments are used to merge two nucleotide sequences. "
   ]
  },
  {
   "cell_type": "code",
   "execution_count": 22,
   "id": "77086d64",
   "metadata": {},
   "outputs": [],
   "source": [
    "# imports\n",
    "import random\n"
   ]
  },
  {
   "cell_type": "markdown",
   "id": "0d363e7d",
   "metadata": {},
   "source": [
    "We will start simple by identifying an overlap in two sequences and then merging them together. Once that is implemented, we will increase the number of sequences."
   ]
  },
  {
   "cell_type": "code",
   "execution_count": 45,
   "id": "522b9ad2",
   "metadata": {},
   "outputs": [],
   "source": [
    "# gen_nt_seq takes in length n (and a seed) to generate a random nucleotide sequence\n",
    "# (not entirely sure if seed is necessary but it is included anyhow)\n",
    "\n",
    "def gen_nt_seq(n, seed = 726):\n",
    "    random.seed(seed)\n",
    "    \n",
    "    nt = [\"A\", \"C\", \"T\", \"G\"] # the different nucleotides (DNA)\n",
    "    nt_seq = \"\" # empty nucleotide sequence\n",
    "    \n",
    "    for i in range(n):\n",
    "        nt_seq += random.choice(nt)\n",
    "    \n",
    "    \n",
    "    return nt_seq\n"
   ]
  },
  {
   "cell_type": "code",
   "execution_count": 46,
   "id": "cbc8de53",
   "metadata": {},
   "outputs": [
    {
     "data": {
      "text/plain": [
       "'TTGAG'"
      ]
     },
     "execution_count": 46,
     "metadata": {},
     "output_type": "execute_result"
    }
   ],
   "source": [
    "gen_nt_seq(5)"
   ]
  },
  {
   "cell_type": "code",
   "execution_count": null,
   "id": "ad2cafbe",
   "metadata": {},
   "outputs": [],
   "source": []
  },
  {
   "cell_type": "code",
   "execution_count": null,
   "id": "a29d0bd2",
   "metadata": {},
   "outputs": [],
   "source": []
  }
 ],
 "metadata": {
  "kernelspec": {
   "display_name": "Python 3 (ipykernel)",
   "language": "python",
   "name": "python3"
  },
  "language_info": {
   "codemirror_mode": {
    "name": "ipython",
    "version": 3
   },
   "file_extension": ".py",
   "mimetype": "text/x-python",
   "name": "python",
   "nbconvert_exporter": "python",
   "pygments_lexer": "ipython3",
   "version": "3.9.7"
  }
 },
 "nbformat": 4,
 "nbformat_minor": 5
}
